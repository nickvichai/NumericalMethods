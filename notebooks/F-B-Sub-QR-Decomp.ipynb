{
 "cells": [
  {
   "cell_type": "code",
   "execution_count": 1,
   "metadata": {},
   "outputs": [],
   "source": [
    "\"\"\"\n",
    "Question III\n",
    "(a) Forward Substitution and Backward Substituion to solve Ax=b system\n",
    "A = m-dependent matrix\n",
    "b = [1,...,1]T\n",
    "\"\"\"\n",
    "from scipy.linalg import inv, lu, hilbert\n",
    "import numpy as np\n",
    "import math"
   ]
  },
  {
   "cell_type": "code",
   "execution_count": 2,
   "metadata": {},
   "outputs": [],
   "source": [
    "def createMatrixA(m):\n",
    "    n = m * m \n",
    "    A = [[0 for x in range(n)] for y in range(n)]\n",
    "    i = 0\n",
    "    while i < n:\n",
    "        if i + m < n:\n",
    "            for j in range(1, m):\n",
    "                A[i+m][i] = -1\n",
    "                A[i+m+j][i+j] = -1\n",
    "                A[i][i+m] = -1\n",
    "                A[i+j][i+m+j] = -1\n",
    "        for j in range(m):\n",
    "            A[i+j][i+j] = 4\n",
    "        for j in range(m-1):\n",
    "            A[i+j+1][i+j] = -1\n",
    "            A[i+j][i+j+1] = -1\n",
    "        i += m\n",
    "    return A\n",
    "\n",
    "def createMatrixb(m):\n",
    "    n = m * m\n",
    "    b = [[1] for x in range(n)]\n",
    "    return b"
   ]
  },
  {
   "cell_type": "code",
   "execution_count": 4,
   "metadata": {
    "scrolled": false
   },
   "outputs": [
    {
     "name": "stdout",
     "output_type": "stream",
     "text": [
      "[[0.6875]\n",
      " [0.875 ]\n",
      " [0.6875]\n",
      " [0.875 ]\n",
      " [1.125 ]\n",
      " [0.875 ]\n",
      " [0.6875]\n",
      " [0.875 ]\n",
      " [0.6875]]\n"
     ]
    }
   ],
   "source": [
    "\"\"\"forward and backward sub to solve the system Ax=b\"\"\"\n",
    "m = 3\n",
    "A = np.array(createMatrixA(m))\n",
    "b = np.array(createMatrixb(m))\n",
    "\n",
    "P, L, U = lu(A)\n",
    "\n",
    "y = inv(L).dot(b)\n",
    "x = inv(U).dot(y)\n",
    "print(x)"
   ]
  },
  {
   "cell_type": "code",
   "execution_count": 5,
   "metadata": {},
   "outputs": [
    {
     "name": "stdout",
     "output_type": "stream",
     "text": [
      "m: 2\n",
      "||b-Ax||: 6.473657049138938e-16\n",
      "m: 3\n",
      "||b-Ax||: 1.2851760658783268e-15\n",
      "m: 4\n",
      "||b-Ax||: 3.922089704712238e-15\n",
      "m: 5\n",
      "||b-Ax||: 5.6359539908333e-15\n",
      "m: 10\n",
      "||b-Ax||: 6.932629418235923e-14\n"
     ]
    }
   ],
   "source": [
    "\"\"\"(b) Computing the residual r = b-Ax for increasing m\"\"\"\n",
    "mVals = [2, 3, 4, 5, 10]\n",
    "for m in mVals:\n",
    "    A = np.array(createMatrixA(m))\n",
    "    b = np.array(createMatrixb(m))\n",
    "    P, L, U = lu(A)\n",
    "    y = inv(L).dot(b)\n",
    "    x = inv(U).dot(y)\n",
    "    r = b - A.dot(x)\n",
    "    err_mag = 0\n",
    "    for err in r: \n",
    "        err_mag += err ** 2\n",
    "    err_mag = math.sqrt(err_mag)\n",
    "    print(\"m: \" + str(m))\n",
    "    print(\"||b-Ax||: \" + str(err_mag))\n",
    "    "
   ]
  },
  {
   "cell_type": "code",
   "execution_count": 6,
   "metadata": {},
   "outputs": [
    {
     "data": {
      "text/plain": [
       "'\\nQuestion IV\\n(a) QR Decomposition of a matrix A (Gram-Schmidt Algorithm)\\n(b) Testing numerical stability of program using Hilbert Matrix\\n    n=2^k, k=1,2,..,8. Check precision using ||A-QR||\\n'"
      ]
     },
     "execution_count": 6,
     "metadata": {},
     "output_type": "execute_result"
    }
   ],
   "source": [
    "\"\"\"\n",
    "Question IV\n",
    "(a) QR Decomposition of a matrix A (Gram-Schmidt Algorithm)\n",
    "(b) Testing numerical stability of program using Hilbert Matrix\n",
    "    n=2^k, k=1,2,..,8. Check precision using ||A-QR||\n",
    "\"\"\""
   ]
  },
  {
   "cell_type": "code",
   "execution_count": 7,
   "metadata": {},
   "outputs": [],
   "source": [
    "def gram_schmidt(A):\n",
    "    O = np.zeros(A.shape)\n",
    "    \n",
    "    for i in range(A.shape[1]):\n",
    "        vector = A[:, i]\n",
    "        space = O[:, :i]\n",
    "        projection = vector @ space\n",
    "        vector = vector - np.sum(projection * space, axis=1)\n",
    "        \n",
    "        norm = np.sqrt(vector @ vector)\n",
    "        vector /= abs(norm) < 1e-8 or 1 or norm\n",
    "        \n",
    "        O[:, i] = vector\n",
    "    return O"
   ]
  },
  {
   "cell_type": "code",
   "execution_count": 8,
   "metadata": {},
   "outputs": [
    {
     "name": "stdout",
     "output_type": "stream",
     "text": [
      "k: 1, ||A-QR||: 0.3540985773328322\n",
      "k: 2, ||A-QR||: 0.9350655368439564\n",
      "k: 3, ||A-QR||: 1.958981527292775\n",
      "k: 4, ||A-QR||: 3.473496562951856\n",
      "k: 5, ||A-QR||: 4.808329250507301\n",
      "k: 6, ||A-QR||: 5.404959516480166\n",
      "k: 7, ||A-QR||: 5.577578539454082\n",
      "k: 8, ||A-QR||: 5.6643332877440455\n"
     ]
    }
   ],
   "source": [
    "kVals = [1,2,3,4,5,6,7,8]\n",
    "for k in kVals:\n",
    "    n = 2 ** k\n",
    "    A = hilbert(n)\n",
    "    Q = gram_schmidt(A)\n",
    "    R = Q.T @ A\n",
    "    check = A - (Q @ R)\n",
    "    err = 0\n",
    "    for row in check:\n",
    "        for val in row:\n",
    "            err += val ** 2\n",
    "    err = math.sqrt(err)\n",
    "    print(\"k: \" + str(k) + \", ||A-QR||: \" + str(err))"
   ]
  },
  {
   "cell_type": "code",
   "execution_count": null,
   "metadata": {},
   "outputs": [],
   "source": []
  }
 ],
 "metadata": {
  "kernelspec": {
   "display_name": "Python 3",
   "language": "python",
   "name": "python3"
  },
  "language_info": {
   "codemirror_mode": {
    "name": "ipython",
    "version": 3
   },
   "file_extension": ".py",
   "mimetype": "text/x-python",
   "name": "python",
   "nbconvert_exporter": "python",
   "pygments_lexer": "ipython3",
   "version": "3.7.6"
  }
 },
 "nbformat": 4,
 "nbformat_minor": 4
}
